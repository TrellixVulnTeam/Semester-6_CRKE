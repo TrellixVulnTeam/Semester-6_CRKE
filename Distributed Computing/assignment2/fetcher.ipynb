{
 "cells": [
  {
   "cell_type": "code",
   "execution_count": 45,
   "id": "hired-return",
   "metadata": {},
   "outputs": [],
   "source": [
    "from bs4 import BeautifulSoup\n",
    "import requests\n",
    "import time\n",
    "import urllib\n",
    "from pprint import pprint as print\n",
    "from json import dumps"
   ]
  },
  {
   "cell_type": "markdown",
   "id": "dried-league",
   "metadata": {},
   "source": [
    "# Fetcher"
   ]
  },
  {
   "cell_type": "code",
   "execution_count": 54,
   "id": "monthly-chess",
   "metadata": {},
   "outputs": [],
   "source": [
    "import os\n",
    "PAGES_DIR = os.getcwd() + '/data'\n",
    "if not os.path.exists(PAGES_DIR):\n",
    "    os.makedirs(PAGES_DIR)"
   ]
  },
  {
   "cell_type": "code",
   "execution_count": 55,
   "id": "imposed-abraham",
   "metadata": {},
   "outputs": [],
   "source": [
    "with open('questions.txt', 'r') as f:\n",
    "    pages_links = f.readlines()"
   ]
  },
  {
   "cell_type": "code",
   "execution_count": 56,
   "id": "missing-bedroom",
   "metadata": {},
   "outputs": [],
   "source": [
    "BASE_URL = 'https://api.stackexchange.com/2.2/questions/'\n",
    "page = 1\n",
    "data_file = 1"
   ]
  },
  {
   "cell_type": "code",
   "execution_count": 57,
   "id": "continent-somerset",
   "metadata": {},
   "outputs": [],
   "source": [
    "def get_url(questions_links):\n",
    "    ids = ';'.join(list(map(lambda x: x.split('/')[4], questions_links)))\n",
    "#     print(ids)\n",
    "    base_url = f'https://api.stackexchange.com/2.2/questions/{ids}'\n",
    "    url = urllib.parse.urlparse(base_url)\n",
    "    query = dict(order='desc', sort='activity', site='stackoverflow', **{'filter':'!*SU8CGYZitCB.D*(BDVIficKj7nFMLLDij64nVID)N9aK3GmR9kT4IzT*5iO_1y3iZ)6W.G*'})\n",
    "    query.update({'page': page})\n",
    "    url = url._replace(query=urllib.parse.urlencode(query))\n",
    "    return urllib.parse.urlunparse(url)"
   ]
  },
  {
   "cell_type": "code",
   "execution_count": 58,
   "id": "fixed-detective",
   "metadata": {},
   "outputs": [
    {
     "name": "stdout",
     "output_type": "stream",
     "text": [
      "'https://api.stackexchange.com/2.2/questions/66759693;66759689;66759675;66759658;66759651;66759647;66759630;66759589;66759580;66759577?order=desc&sort=activity&site=stackoverflow&filter=%21%2ASU8CGYZitCB.D%2A%28BDVIficKj7nFMLLDij64nVID%29N9aK3GmR9kT4IzT%2A5iO_1y3iZ%296W.G%2A&page=1'\n"
     ]
    }
   ],
   "source": [
    "# Fetch and parse\n",
    "url = get_url(pages_links[:10])\n",
    "print(url)"
   ]
  },
  {
   "cell_type": "code",
   "execution_count": 62,
   "id": "expanded-backing",
   "metadata": {},
   "outputs": [],
   "source": [
    "def get_pages():\n",
    "    page = 0\n",
    "    data = {'has_more': True}\n",
    "    while data['has_more']:\n",
    "        data_file = data_file + 1\n",
    "        page = page + 1\n",
    "        time.sleep(2)\n",
    "        url = get_url(pages)\n",
    "        res = requests.get(url)\n",
    "        data = res.json()\n",
    "        print(f'Writing {len(data[\"items\"])} questions to the file.')\n",
    "        print(f'Page {data[\"page\"]} of {data[\"page_size\"]}')\n",
    "        df = open(f'data/df-{data_file:4d}.json', 'w')\n",
    "        df.write(dumps(data['items']))\n",
    "        df.close()"
   ]
  },
  {
   "cell_type": "code",
   "execution_count": null,
   "id": "potential-teddy",
   "metadata": {},
   "outputs": [],
   "source": []
  }
 ],
 "metadata": {
  "kernelspec": {
   "display_name": "Python 3",
   "language": "python",
   "name": "python3"
  },
  "language_info": {
   "codemirror_mode": {
    "name": "ipython",
    "version": 3
   },
   "file_extension": ".py",
   "mimetype": "text/x-python",
   "name": "python",
   "nbconvert_exporter": "python",
   "pygments_lexer": "ipython3",
   "version": "3.8.5"
  }
 },
 "nbformat": 4,
 "nbformat_minor": 5
}
