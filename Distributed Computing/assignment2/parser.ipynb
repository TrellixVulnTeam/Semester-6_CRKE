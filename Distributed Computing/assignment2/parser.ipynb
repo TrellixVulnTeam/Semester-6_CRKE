{
 "cells": [
  {
   "cell_type": "code",
   "execution_count": null,
   "id": "rough-pound",
   "metadata": {},
   "outputs": [],
   "source": [
    "from bs4 import BeautifulSoup"
   ]
  },
  {
   "cell_type": "markdown",
   "id": "asian-hungarian",
   "metadata": {},
   "source": [
    "# Selecting Tag"
   ]
  },
  {
   "cell_type": "code",
   "execution_count": 4,
   "id": "furnished-campus",
   "metadata": {},
   "outputs": [],
   "source": [
    "BASE_URI = 'https://stackoverflow.com'"
   ]
  },
  {
   "cell_type": "code",
   "execution_count": 5,
   "id": "banner-accordance",
   "metadata": {},
   "outputs": [],
   "source": [
    "tag = 'python'"
   ]
  },
  {
   "cell_type": "code",
   "execution_count": null,
   "id": "finite-colombia",
   "metadata": {},
   "outputs": [],
   "source": []
  }
 ],
 "metadata": {
  "kernelspec": {
   "display_name": "Python 3",
   "language": "python",
   "name": "python3"
  },
  "language_info": {
   "codemirror_mode": {
    "name": "ipython",
    "version": 3
   },
   "file_extension": ".py",
   "mimetype": "text/x-python",
   "name": "python",
   "nbconvert_exporter": "python",
   "pygments_lexer": "ipython3",
   "version": "3.8.5"
  }
 },
 "nbformat": 4,
 "nbformat_minor": 5
}
