{
 "cells": [
  {
   "cell_type": "code",
   "execution_count": 85,
   "id": "secure-great",
   "metadata": {},
   "outputs": [],
   "source": [
    "from bs4 import BeautifulSoup\n",
    "import requests\n",
    "import urllib"
   ]
  },
  {
   "cell_type": "markdown",
   "id": "advance-couple",
   "metadata": {},
   "source": [
    "# Crawler"
   ]
  },
  {
   "cell_type": "code",
   "execution_count": 86,
   "id": "suspended-marble",
   "metadata": {},
   "outputs": [],
   "source": [
    "tag = 'python'\n",
    "max_posts = 50"
   ]
  },
  {
   "cell_type": "code",
   "execution_count": 87,
   "id": "rational-powder",
   "metadata": {},
   "outputs": [],
   "source": [
    "URL = 'https://stackoverflow.com'\n",
    "BASE_URL = f'{URL}/questions/tagged/{tag}?pagesize={max_posts}'"
   ]
  },
  {
   "cell_type": "code",
   "execution_count": null,
   "id": "social-effect",
   "metadata": {},
   "outputs": [],
   "source": []
  },
  {
   "cell_type": "code",
   "execution_count": 88,
   "id": "adaptive-format",
   "metadata": {},
   "outputs": [],
   "source": [
    "def get_url():\n",
    "    url = urllib.parse.urlparse(BASE_URL)\n",
    "    query = dict(urllib.parse.parse_qsl(url.query))\n",
    "    query.update({'page': page})\n",
    "    url = url._replace(query=urllib.parse.urlencode(query))\n",
    "    return urllib.parse.urlunparse(url)"
   ]
  },
  {
   "cell_type": "code",
   "execution_count": 89,
   "id": "precise-midnight",
   "metadata": {},
   "outputs": [],
   "source": [
    "classname = 'question-hyperlink'\n",
    "questions_file = open('questions.txt', 'w')\n",
    "page = 1"
   ]
  },
  {
   "cell_type": "code",
   "execution_count": 90,
   "id": "gothic-proportion",
   "metadata": {},
   "outputs": [
    {
     "name": "stdout",
     "output_type": "stream",
     "text": [
      "https://stackoverflow.com/questions/tagged/python?pagesize=50&page=1\n"
     ]
    }
   ],
   "source": [
    "print(get_url())\n"
   ]
  },
  {
   "cell_type": "code",
   "execution_count": 91,
   "id": "blind-curve",
   "metadata": {},
   "outputs": [
    {
     "name": "stdout",
     "output_type": "stream",
     "text": [
      "Added 50 Questions to the list\n",
      "Added 50 Questions to the list\n"
     ]
    }
   ],
   "source": [
    "documents_crawled = 0\n",
    "while documents_crawled < 100:\n",
    "    res = requests.get(get_url())\n",
    "    html = res.text\n",
    "    soup = BeautifulSoup(html)\n",
    "    try:\n",
    "        questions_link = soup.find(id='questions').find_all('a', attrs={'class': classname})\n",
    "        for question in questions_link:\n",
    "            questions_file.write('https://stackoverflow.com' + question.attrs['href'] + '\\n')\n",
    "        documents_crawled += len(questions_link)\n",
    "        print('Added', len(questions_link), 'Questions to the list')\n",
    "    except:\n",
    "        print('Failed.\\nRetrying')\n",
    "    page += 1\n",
    "questions_file.close()"
   ]
  },
  {
   "cell_type": "code",
   "execution_count": null,
   "id": "substantial-injection",
   "metadata": {},
   "outputs": [],
   "source": []
  },
  {
   "cell_type": "code",
   "execution_count": null,
   "id": "computational-generation",
   "metadata": {},
   "outputs": [],
   "source": []
  },
  {
   "cell_type": "code",
   "execution_count": null,
   "id": "gorgeous-edmonton",
   "metadata": {},
   "outputs": [],
   "source": []
  },
  {
   "cell_type": "code",
   "execution_count": null,
   "id": "bacterial-citizenship",
   "metadata": {},
   "outputs": [],
   "source": []
  }
 ],
 "metadata": {
  "kernelspec": {
   "display_name": "Python 3",
   "language": "python",
   "name": "python3"
  },
  "language_info": {
   "codemirror_mode": {
    "name": "ipython",
    "version": 3
   },
   "file_extension": ".py",
   "mimetype": "text/x-python",
   "name": "python",
   "nbconvert_exporter": "python",
   "pygments_lexer": "ipython3",
   "version": "3.8.5"
  }
 },
 "nbformat": 4,
 "nbformat_minor": 5
}
